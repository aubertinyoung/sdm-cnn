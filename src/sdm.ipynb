{
 "cells": [
  {
   "cell_type": "code",
   "execution_count": 1,
   "metadata": {},
   "outputs": [
    {
     "name": "stderr",
     "output_type": "stream",
     "text": [
      "/Users/macgregor/sdm-cnn/src/occurrences.py:263: FutureWarning: xarray subclass Raster should explicitly define __slots__\n",
      "  class Raster(xarray.DataArray):\n"
     ]
    }
   ],
   "source": [
    "from occurrences import Occurrences, Raster\n",
    "import pandas as pd\n",
    "import geopandas as gpd\n",
    "import rioxarray\n",
    "from shapely import Point, box\n",
    "import numpy as np\n",
    "import xarray\n",
    "import matplotlib.pyplot as plt\n",
    "\n",
    "raster = rioxarray.open_rasterio('../data/wc2.1_30s_bio_1.tif')\n",
    "\n",
    "# # print(raster[1, 2])\n",
    "\n",
    "data = pd.read_csv('../data/occurrence.txt', sep=\"\\t\", low_memory=False)\n",
    "geometry = [Point(xy) for xy in zip(data.decimalLongitude, data.decimalLatitude)]\n",
    "# geometry = [x.buffer(0.2) for x in geometry]\n",
    "og_data = gpd.GeoDataFrame(data, crs=\"EPSG:4326\", geometry=geometry)\n"
   ]
  },
  {
   "cell_type": "code",
   "execution_count": 4,
   "metadata": {},
   "outputs": [
    {
     "name": "stdout",
     "output_type": "stream",
     "text": [
      "Empty Occurrences\n",
      "Columns: []\n",
      "Index: []\n"
     ]
    },
    {
     "name": "stderr",
     "output_type": "stream",
     "text": [
      "/opt/homebrew/anaconda3/envs/torchenv/lib/python3.9/site-packages/geopandas/geodataframe.py:202: UserWarning: Pandas doesn't allow columns to be created via a new attribute name - see https://pandas.pydata.org/pandas-docs/stable/indexing.html#attribute-access\n",
      "  super().__setattr__(attr, val)\n"
     ]
    }
   ],
   "source": [
    "# 1. Chunk the global raster into many, many small rasters\n",
    "# from process_raster import chunk_raster\n",
    "# chunk_raster(raster = '../data/wc2.1_30s_bio_1.tif', output_path = '../data/test', resolution = 2, bbox=(-178.2, 6.6, -49.0, 83.3))\n",
    "\n",
    "# 2. Determine which rasters are needed for all species occurrence records in the GeoDataFrame\n",
    "import os\n",
    "data = Occurrences(og_data)\n",
    "path = '/Users/macgregor/sdm-cnn/data/test/'\n",
    "rasters = [path + file for file in os.listdir(path) if file.endswith('.tif')]\n",
    "# data.which_rasters(distance=32, rasters=rasters)\n",
    "\n",
    "# 3. For each species occurrence, create a distance x distance x n xarray.DataSet, where n is the number of variables\n",
    "variables = os.listdir(path)\n",
    "# print(variables)\n",
    "out = []\n",
    "\n",
    "# print(type(data[1]))\n",
    "# print(type(data))\n",
    "# data.loc[1, :]\n",
    "# print(data)\n",
    "\n",
    "# # variables\n",
    "# for i, row in data.iterrows():\n",
    "#     # for var in variables:\n",
    "#     rasters = [path + file for file in os.listdir(path) if file.endswith('.tif')]\n",
    "\n",
    "#     # print(data[:i])\n",
    "#     out.append(data[:i].load_rasters(distance=32, rasters=rasters))\n",
    "#     # print(data[i])\n",
    "\n",
    "#     del rasters"
   ]
  },
  {
   "cell_type": "code",
   "execution_count": null,
   "metadata": {},
   "outputs": [],
   "source": [
    "out"
   ]
  },
  {
   "cell_type": "code",
   "execution_count": null,
   "metadata": {},
   "outputs": [],
   "source": [
    "from rioxarray.merge import merge_arrays\n",
    "\n",
    "merge_arrays(d[:20]).plot()"
   ]
  },
  {
   "cell_type": "code",
   "execution_count": null,
   "metadata": {},
   "outputs": [],
   "source": [
    "# print(data.loc[0:1, :])\n",
    "from occurrences import Occurrences, Raster\n",
    "\n",
    "occs = Occurrences(data.loc[:20000,])\n",
    "thinned = occs.thin(resolution = 10, thin_proportion=0.95, minimum=1)\n",
    "\n",
    "occs.plot()\n",
    "thinned.plot()\n",
    "# thinned\n",
    "# thinned == {'Point'}"
   ]
  },
  {
   "cell_type": "code",
   "execution_count": null,
   "metadata": {},
   "outputs": [],
   "source": [
    "# print(occs.within(raster[1:10]))\n",
    "o = Occurrences(thinned)\n",
    "# p = o.rasterize(resolution=1, type = 'count')\n",
    "\n",
    "# plt.imshow(p.T, origin='lower', aspect='equal', interpolation='none', cmap=plt.cm.Reds)"
   ]
  },
  {
   "cell_type": "code",
   "execution_count": null,
   "metadata": {},
   "outputs": [],
   "source": [
    "import os\n",
    "import rioxarray\n",
    "\n",
    "l = []\n",
    "path = '/Users/macgregor/sdm-cnn/data/test/'\n",
    "\n",
    "files = [path + file for file in os.listdir(path) if file.endswith('.tif')]\n"
   ]
  },
  {
   "cell_type": "code",
   "execution_count": null,
   "metadata": {},
   "outputs": [],
   "source": [
    "files"
   ]
  },
  {
   "cell_type": "code",
   "execution_count": null,
   "metadata": {},
   "outputs": [],
   "source": [
    "# rasters = rioxarray.open_rasterio('../data/test/wc2.1_30s_bio_1/')\n",
    "\n",
    "y = o.which_rasters(distance=5, rasters=files)"
   ]
  },
  {
   "cell_type": "code",
   "execution_count": null,
   "metadata": {},
   "outputs": [],
   "source": [
    "y"
   ]
  },
  {
   "cell_type": "code",
   "execution_count": null,
   "metadata": {},
   "outputs": [],
   "source": []
  }
 ],
 "metadata": {
  "kernelspec": {
   "display_name": "torchenv",
   "language": "python",
   "name": "python3"
  },
  "language_info": {
   "codemirror_mode": {
    "name": "ipython",
    "version": 3
   },
   "file_extension": ".py",
   "mimetype": "text/x-python",
   "name": "python",
   "nbconvert_exporter": "python",
   "pygments_lexer": "ipython3",
   "version": "3.9.15"
  },
  "orig_nbformat": 4,
  "vscode": {
   "interpreter": {
    "hash": "f236a59d749daa57b9b426d2513743da14b3dd7a4b8fba1bce8c179068ad351a"
   }
  }
 },
 "nbformat": 4,
 "nbformat_minor": 2
}
